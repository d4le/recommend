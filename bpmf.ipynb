{
 "cells": [
  {
   "cell_type": "code",
   "execution_count": 47,
   "metadata": {},
   "outputs": [
    {
     "data": {
      "text/html": [
       "<div>\n",
       "<table border=\"1\" class=\"dataframe\">\n",
       "  <thead>\n",
       "    <tr style=\"text-align: right;\">\n",
       "      <th></th>\n",
       "      <th>userId</th>\n",
       "      <th>movieId</th>\n",
       "      <th>rating</th>\n",
       "      <th>timestamp</th>\n",
       "    </tr>\n",
       "  </thead>\n",
       "  <tbody>\n",
       "    <tr>\n",
       "      <th>0</th>\n",
       "      <td>1</td>\n",
       "      <td>31</td>\n",
       "      <td>2.5</td>\n",
       "      <td>1260759144</td>\n",
       "    </tr>\n",
       "    <tr>\n",
       "      <th>1</th>\n",
       "      <td>1</td>\n",
       "      <td>1029</td>\n",
       "      <td>3.0</td>\n",
       "      <td>1260759179</td>\n",
       "    </tr>\n",
       "    <tr>\n",
       "      <th>2</th>\n",
       "      <td>1</td>\n",
       "      <td>1061</td>\n",
       "      <td>3.0</td>\n",
       "      <td>1260759182</td>\n",
       "    </tr>\n",
       "    <tr>\n",
       "      <th>3</th>\n",
       "      <td>1</td>\n",
       "      <td>1129</td>\n",
       "      <td>2.0</td>\n",
       "      <td>1260759185</td>\n",
       "    </tr>\n",
       "    <tr>\n",
       "      <th>4</th>\n",
       "      <td>1</td>\n",
       "      <td>1172</td>\n",
       "      <td>4.0</td>\n",
       "      <td>1260759205</td>\n",
       "    </tr>\n",
       "  </tbody>\n",
       "</table>\n",
       "</div>"
      ],
      "text/plain": [
       "   userId  movieId  rating   timestamp\n",
       "0       1       31     2.5  1260759144\n",
       "1       1     1029     3.0  1260759179\n",
       "2       1     1061     3.0  1260759182\n",
       "3       1     1129     2.0  1260759185\n",
       "4       1     1172     4.0  1260759205"
      ]
     },
     "execution_count": 47,
     "metadata": {},
     "output_type": "execute_result"
    }
   ],
   "source": [
    "import pandas as pd\n",
    "#REMOVE HEADER in data file from case study\n",
    "cols = [\"userId\",\"movieId\",\"rating\",\"timestamp\"]\n",
    "df = pd.read_csv('data/movies/ratings.csv', header=None, names=cols)\n",
    "df.head()"
   ]
  },
  {
   "cell_type": "code",
   "execution_count": 41,
   "metadata": {},
   "outputs": [
    {
     "data": {
      "text/plain": [
       "array([[   1,   31,    3],\n",
       "       [   1, 1029,    4],\n",
       "       [   1, 1061,    4],\n",
       "       ..., \n",
       "       [ 671, 6365,    4],\n",
       "       [ 671, 6385,    3],\n",
       "       [ 671, 6565,    4]])"
      ]
     },
     "execution_count": 41,
     "metadata": {},
     "output_type": "execute_result"
    }
   ],
   "source": [
    "from __future__ import print_function\n",
    "\n",
    "import os\n",
    "import logging\n",
    "import zipfile\n",
    "from six.moves import urllib\n",
    "from numpy.random import RandomState\n",
    "from recommend.bpmf import BPMF\n",
    "from recommend.utils.evaluation import RMSE\n",
    "from recommend.utils.datasets import load_movielens_1m_ratings\n",
    "import numpy as np\n",
    "\n",
    "logging.basicConfig(format='%(levelname)s: %(message)s', level=logging.INFO)\n",
    "\n",
    "rand_state = RandomState(0)\n",
    "\n",
    "# this program operates off np int array, so we have to round ratings\n",
    "def load_movie_ratings(ratings_file, separator=','):\n",
    "    with open(ratings_file) as f:\n",
    "        ratings = []\n",
    "        for line in f:\n",
    "            line = line.split(separator)[:3]\n",
    "            rate = int(round(float(line[2])+.5))\n",
    "            if rate > 5 :\n",
    "                rate = 5\n",
    "            line = [int(line[0]),int(line[1]),rate] \n",
    "            ratings.append(line)\n",
    "        ratings = np.array(ratings)\n",
    "    return ratings\n",
    "\n",
    "\n",
    "ratings = load_movie_ratings('/Users/d4/Dropbox/dsi/07_week/03_recommender/recommend/data/movies/ratings.csv')\n",
    "n_user = max(ratings[:, 0])\n",
    "n_item = max(ratings[:, 1])\n",
    "\n",
    "ratings"
   ]
  },
  {
   "cell_type": "code",
   "execution_count": 42,
   "metadata": {},
   "outputs": [
    {
     "name": "stdout",
     "output_type": "stream",
     "text": [
      "n_user: 671, n_item: 163949, n_feature: 10, training size: 90003, validation size: 10001\n"
     ]
    },
    {
     "name": "stderr",
     "output_type": "stream",
     "text": [
      "INFO: iter: 0, train RMSE: 0.873394\n",
      "INFO: iter: 1, train RMSE: 0.852109\n",
      "INFO: iter: 2, train RMSE: 0.845503\n",
      "INFO: iter: 3, train RMSE: 0.841067\n",
      "INFO: iter: 4, train RMSE: 0.834059\n",
      "INFO: iter: 5, train RMSE: 0.818338\n",
      "INFO: iter: 6, train RMSE: 0.796508\n",
      "INFO: iter: 7, train RMSE: 0.779712\n",
      "INFO: iter: 8, train RMSE: 0.769551\n",
      "INFO: iter: 9, train RMSE: 0.762740\n",
      "INFO: iter: 10, train RMSE: 0.757583\n",
      "INFO: iter: 11, train RMSE: 0.755682\n",
      "INFO: iter: 12, train RMSE: 0.753229\n",
      "INFO: iter: 13, train RMSE: 0.751368\n",
      "INFO: iter: 14, train RMSE: 0.749592\n",
      "INFO: iter: 15, train RMSE: 0.748638\n",
      "INFO: iter: 16, train RMSE: 0.748394\n",
      "INFO: iter: 17, train RMSE: 0.746299\n",
      "INFO: iter: 18, train RMSE: 0.745996\n",
      "INFO: iter: 19, train RMSE: 0.743808\n"
     ]
    },
    {
     "name": "stdout",
     "output_type": "stream",
     "text": [
      "after 20 iteration, train RMSE: 0.743808, validation RMSE: 0.807491\n"
     ]
    }
   ],
   "source": [
    "\n",
    "\n",
    "# shift user_id & movie_id by 1. let user_id & movie_id start from 0\n",
    "ratings[:, (0, 1)] -= 1\n",
    "\n",
    "# split data to training & testing\n",
    "train_pct = 0.9\n",
    "\n",
    "rand_state.shuffle(ratings)\n",
    "train_size = int(train_pct * ratings.shape[0])\n",
    "train = ratings[:train_size]\n",
    "validation = ratings[train_size:]\n",
    "\n",
    "# models settings\n",
    "n_feature = 10\n",
    "eval_iters = 20\n",
    "print(\"n_user: %d, n_item: %d, n_feature: %d, training size: %d, validation size: %d\" % (\n",
    "    n_user, n_item, n_feature, train.shape[0], validation.shape[0]))\n",
    "bpmf = BPMF(n_user=n_user, n_item=n_item, n_feature=n_feature,\n",
    "            max_rating=5., min_rating=1., seed=0)\n",
    "\n",
    "bpmf.fit(train, n_iters=eval_iters)\n",
    "train_preds = bpmf.predict(train[:, :2])\n",
    "train_rmse = RMSE(train_preds, train[:, 2])\n",
    "val_preds = bpmf.predict(validation[:, :2])\n",
    "val_rmse = RMSE(val_preds, validation[:, 2])\n",
    "print(\"after %d iteration, train RMSE: %.6f, validation RMSE: %.6f\" %\n",
    "      (eval_iters, train_rmse, val_rmse))\n"
   ]
  },
  {
   "cell_type": "code",
   "execution_count": null,
   "metadata": {
    "collapsed": true
   },
   "outputs": [],
   "source": []
  }
 ],
 "metadata": {
  "kernelspec": {
   "display_name": "Python 3",
   "language": "python",
   "name": "python3"
  },
  "language_info": {
   "codemirror_mode": {
    "name": "ipython",
    "version": 3
   },
   "file_extension": ".py",
   "mimetype": "text/x-python",
   "name": "python",
   "nbconvert_exporter": "python",
   "pygments_lexer": "ipython3",
   "version": "3.6.1"
  }
 },
 "nbformat": 4,
 "nbformat_minor": 2
}
